{
  "nbformat": 4,
  "nbformat_minor": 0,
  "metadata": {
    "colab": {
      "provenance": [],
      "include_colab_link": true
    },
    "kernelspec": {
      "name": "python3",
      "display_name": "Python 3"
    },
    "language_info": {
      "name": "python"
    }
  },
  "cells": [
    {
      "cell_type": "markdown",
      "metadata": {
        "id": "view-in-github",
        "colab_type": "text"
      },
      "source": [
        "<a href=\"https://colab.research.google.com/github/roboaleks/E.g/blob/main/Copy_of_PRO_C109_Student_Activity.ipynb\" target=\"_parent\"><img src=\"https://colab.research.google.com/assets/colab-badge.svg\" alt=\"Open In Colab\"/></a>"
      ]
    },
    {
      "cell_type": "markdown",
      "metadata": {
        "id": "FEJpk7d85AEe"
      },
      "source": [
        "## Phonebook"
      ]
    },
    {
      "cell_type": "code",
      "metadata": {
        "id": "TvPncZmt4lLb"
      },
      "source": [
        "# Define Class\n",
        "class Contact_Details:\n",
        "\n",
        "    # Define Attributes of class  \n",
        "    def __init__(self, name, mobile_number, email, address):\n",
        "        self.contact_name = name\n",
        "        self.contact_number = mobile_number\n",
        "        self.email = email\n",
        "        self.contact_address = address       \n",
        "\n",
        "        # Make a dictionary of the contact details \n",
        "        self.person = {\n",
        "            \"name\": self.contact_name,\n",
        "            \"mobile\" : self.contact_number,\n",
        "            \"email\": self.email,\n",
        "            \"address\": self.contact_address\n",
        "        } \n",
        "       \n",
        "\n",
        "    # Define Methods of class\n",
        "    def view_contact_details(self, contact_list): \n",
        "         print(contact_list)\n",
        "\n",
        "    # Add the contact details to the list    \n",
        "    def add_contact_details(self, contact_list):      \n",
        "      contact_list.append(self.person)\n",
        "\n",
        "    # REPLACE THIS COMMENT WITH CODE#"
      ],
      "execution_count": 1,
      "outputs": []
    },
    {
      "cell_type": "code",
      "metadata": {
        "id": "IhfI3d6OF6K8",
        "colab": {
          "base_uri": "https://localhost:8080/"
        },
        "outputId": "76ee29e7-cb9d-48b8-d5fe-974a1d96b925"
      },
      "source": [
        "# Create Object of the class\n",
        "contact_1 = Contact_Details(\"Aleksandar Vasilevski\", 61421377740, \"alikivas@icloud.com\", \"26 Elliot St, Sufers Paradise, Gold Coast QLD Australia\")\n",
        "print(contact_1)"
      ],
      "execution_count": 5,
      "outputs": [
        {
          "output_type": "stream",
          "name": "stdout",
          "text": [
            "<__main__.Contact_Details object at 0x7f9c0977c5e0>\n"
          ]
        }
      ]
    },
    {
      "cell_type": "code",
      "metadata": {
        "id": "kWMf88E6jMn3",
        "colab": {
          "base_uri": "https://localhost:8080/"
        },
        "outputId": "efed37fc-39de-4ab1-e22b-2e66e34a82ff"
      },
      "source": [
        "# Call Methods of the class\n",
        "phonebook = []\n",
        "contact_1 = Contact_Details(\"Aleksandar Vasilevski\", 61421377740, \"alikivas@icloud.com\", \"26 Elliot St, Sufers Paradise, Gold Coast QLD Australia\")\n",
        "contact_1.add_contact_details(phonebook)\n",
        "contact_1.view_contact_details(phonebook)\n",
        "phonebook1 = []\n",
        "contact_2 = Contact_Details(\"Declan Holten-Jones\", 61533803696, \"deciholt@icloud.com\", \"26 Elliot St, Sufers Paradise, Gold Coast QLD Australia\")\n",
        "contact_2.add_contact_details(phonebook1)\n",
        "contact_2.view_contact_details(phonebook1)"
      ],
      "execution_count": 10,
      "outputs": [
        {
          "output_type": "stream",
          "name": "stdout",
          "text": [
            "[{'name': 'Aleksandar Vasilevski', 'mobile': 61421377740, 'email': 'alikivas@icloud.com', 'address': '26 Elliot St, Sufers Paradise, Gold Coast QLD Australia'}]\n",
            "[{'name': 'Declan Holten-Jones', 'mobile': 61533803696, 'email': 'alikivas@icloud.com', 'address': '26 Elliot St, Sufers Paradise, Gold Coast QLD Australia'}]\n"
          ]
        }
      ]
    }
  ]
}