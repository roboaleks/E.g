{
  "nbformat": 4,
  "nbformat_minor": 0,
  "metadata": {
    "colab": {
      "provenance": [],
      "authorship_tag": "ABX9TyMJ1O9381+f0FqhNOjw7IJJ",
      "include_colab_link": true
    },
    "kernelspec": {
      "name": "python3",
      "display_name": "Python 3"
    },
    "language_info": {
      "name": "python"
    }
  },
  "cells": [
    {
      "cell_type": "markdown",
      "metadata": {
        "id": "view-in-github",
        "colab_type": "text"
      },
      "source": [
        "<a href=\"https://colab.research.google.com/github/roboaleks/E.g/blob/main/Project106.ipynb\" target=\"_parent\"><img src=\"https://colab.research.google.com/assets/colab-badge.svg\" alt=\"Open In Colab\"/></a>"
      ]
    },
    {
      "cell_type": "code",
      "execution_count": 3,
      "metadata": {
        "colab": {
          "base_uri": "https://localhost:8080/"
        },
        "id": "TwHCHD41T8GP",
        "outputId": "6692ddf9-a61e-4ad1-d399-455497bad6ab"
      },
      "outputs": [
        {
          "output_type": "stream",
          "name": "stdout",
          "text": [
            "['Maths', 'English', 'History', 'Arts']\n",
            "[90, 80, 75, 85]\n"
          ]
        }
      ],
      "source": [
        "marks=[\"Maths\",90,\"English\",80,\"History\",75,\"Arts\",85]\n",
        "\n",
        "print(marks[0::2])\n",
        "\n",
        "print(marks[1::2])"
      ]
    }
  ]
}