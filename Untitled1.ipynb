{
  "nbformat": 4,
  "nbformat_minor": 0,
  "metadata": {
    "colab": {
      "provenance": [],
      "authorship_tag": "ABX9TyPuw86RQsb/j/WWth0Or92o",
      "include_colab_link": true
    },
    "kernelspec": {
      "name": "python3",
      "display_name": "Python 3"
    },
    "language_info": {
      "name": "python"
    }
  },
  "cells": [
    {
      "cell_type": "markdown",
      "metadata": {
        "id": "view-in-github",
        "colab_type": "text"
      },
      "source": [
        "<a href=\"https://colab.research.google.com/github/roboaleks/E.g/blob/main/Untitled1.ipynb\" target=\"_parent\"><img src=\"https://colab.research.google.com/assets/colab-badge.svg\" alt=\"Open In Colab\"/></a>"
      ]
    },
    {
      "cell_type": "code",
      "execution_count": 4,
      "metadata": {
        "colab": {
          "base_uri": "https://localhost:8080/"
        },
        "id": "WKpsORBqoezJ",
        "outputId": "6981b4e0-1e0d-49a4-ab88-7b78b4ac7b29"
      },
      "outputs": [
        {
          "output_type": "stream",
          "name": "stdout",
          "text": [
            "Enter a name: aleks\n",
            "a * * * * \n",
            "* l * * * \n",
            "* * e * * \n",
            "* * * k * \n",
            "* * * * s \n"
          ]
        }
      ],
      "source": [
        "name = input(\"Enter a name: \")\n",
        "iteration = len(name)\n",
        "\n",
        "for x in range(0,iteration):\n",
        "  for y in range(0,iteration):\n",
        "    if(x == y):\n",
        "      print(name[x],end = \" \",sep = \" \")\n",
        "    else:\n",
        "      print(\"*\",end = \" \",sep = \" \")\n",
        "  print()"
      ]
    }
  ]
}