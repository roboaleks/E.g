{
  "nbformat": 4,
  "nbformat_minor": 0,
  "metadata": {
    "colab": {
      "provenance": [],
      "authorship_tag": "ABX9TyOdtsGWN9tPlavfuOaOnV45",
      "include_colab_link": true
    },
    "kernelspec": {
      "name": "python3",
      "display_name": "Python 3"
    },
    "language_info": {
      "name": "python"
    }
  },
  "cells": [
    {
      "cell_type": "markdown",
      "metadata": {
        "id": "view-in-github",
        "colab_type": "text"
      },
      "source": [
        "<a href=\"https://colab.research.google.com/github/roboaleks/E.g/blob/main/Project105.ipynb\" target=\"_parent\"><img src=\"https://colab.research.google.com/assets/colab-badge.svg\" alt=\"Open In Colab\"/></a>"
      ]
    },
    {
      "cell_type": "code",
      "execution_count": 10,
      "metadata": {
        "colab": {
          "base_uri": "https://localhost:8080/"
        },
        "id": "Xo23NiofI-hv",
        "outputId": "8d8b6679-6388-45dc-aead-11e6384e8e17"
      },
      "outputs": [
        {
          "output_type": "stream",
          "name": "stdout",
          "text": [
            "Check if the year is a leap year: yes\n",
            "OK, are you sure? yes\n",
            "Is the year divisble by 4 or 400 yes\n",
            "Then you are correct it is a leap year. \n"
          ]
        }
      ],
      "source": [
        "cels=input(\"Check if the year is a leap year: \")\n",
        "\n",
        "answer1 = \"1\"\n",
        "answer2 = \"2\"\n",
        "\n",
        "if(answer1 == \"1\" or answer2 == \"2\"):\n",
        "  cels=input(\"OK, are you sure? \");\n",
        "  if(answer1 == \"1\"):\n",
        "    cels=input(\"Is the year divisble by 4 or 400 \");\n",
        "    if(answer1 == \"1\"):\n",
        "      print(\"Then you are correct it is a leap year. \");\n",
        "    elif(answer2 == \"2\"):\n",
        "      print(\"The given year is not a leap year. \");\n",
        "    else:\n",
        "      \"Invalid Input\"\n",
        "  elif(answer2 == \"2\"):\n",
        "    print(\"THe given year then is not a leap year. \");\n",
        "  else:\n",
        "    \"Invalid Input\"\n",
        "else:\n",
        "  \"INvalid Input\"\n",
        "\n"
      ]
    }
  ]
}