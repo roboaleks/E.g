{
  "nbformat": 4,
  "nbformat_minor": 0,
  "metadata": {
    "colab": {
      "provenance": [],
      "authorship_tag": "ABX9TyMixcTFKYjP1VJjyze4xwzT",
      "include_colab_link": true
    },
    "kernelspec": {
      "name": "python3",
      "display_name": "Python 3"
    },
    "language_info": {
      "name": "python"
    }
  },
  "cells": [
    {
      "cell_type": "markdown",
      "metadata": {
        "id": "view-in-github",
        "colab_type": "text"
      },
      "source": [
        "<a href=\"https://colab.research.google.com/github/roboaleks/E.g/blob/main/Introduction.ipynb\" target=\"_parent\"><img src=\"https://colab.research.google.com/assets/colab-badge.svg\" alt=\"Open In Colab\"/></a>"
      ]
    },
    {
      "cell_type": "code",
      "execution_count": 3,
      "metadata": {
        "colab": {
          "base_uri": "https://localhost:8080/"
        },
        "id": "CVwgDshvdi1R",
        "outputId": "a39fada8-9352-4c2e-9256-b66fbccfc033"
      },
      "outputs": [
        {
          "output_type": "stream",
          "name": "stdout",
          "text": [
            "Hello this is the Earth on May 11, 1969\n"
          ]
        }
      ],
      "source": [
        "print(\"Hello this is the Earth on May 11, 1969\")"
      ]
    },
    {
      "cell_type": "markdown",
      "source": [
        "creating calcutlator using python"
      ],
      "metadata": {
        "id": "oQRf_Rf2eVGG"
      }
    },
    {
      "cell_type": "code",
      "source": [
        "def add(x,y):\n",
        "  return x + y\n",
        "\n",
        "def subtract(x,y):\n",
        "  return x - y\n",
        "\n",
        "def calculate(option):\n",
        "  if(option == \"1\" or option == \"2\"):\n",
        "    num1 = float(input(\"Enter The First Number \"))\n",
        "    num2 = float(input(\"Enter The Second Number \"))\n",
        "    if(option == \"1\"):\n",
        "      print(\"Addition of \", num1, \"and \", num2, \"Equals \", add(num1,num2))\n",
        "    elif(option == \"2\"):\n",
        "      print(\"Subtraction of \", num1, \"and \", num2, \"Equals \", subtract(num1,num2))   \n",
        "  else:\n",
        "    print(\"Invalid Input \")\n",
        "\n",
        "print(\"1:add \", \"2:subtraction \")\n",
        "option = input(\"Enter Option 1/2\")\n",
        "calculate(option)  \n",
        "      \n",
        "  "
      ],
      "metadata": {
        "colab": {
          "base_uri": "https://localhost:8080/"
        },
        "id": "UOQkRY_Qeb-w",
        "outputId": "93ddf57c-190d-4908-a6d4-be3bdd21e460"
      },
      "execution_count": 8,
      "outputs": [
        {
          "output_type": "stream",
          "name": "stdout",
          "text": [
            "1:add  2:subtraction \n",
            "Enter Option 1/21\n",
            "Enter The First Number 4857284792458748572974580274989274984285720849874758274\n",
            "Enter The Second Number 7429850729847598275987459872987598247798459437985749857874985747598749857432875034785743987502748728475942785798498274075982074\n",
            "Addition of  4.857284792458749e+54 and  7.429850729847598e+126 Equals  7.429850729847598e+126\n"
          ]
        }
      ]
    }
  ]
}