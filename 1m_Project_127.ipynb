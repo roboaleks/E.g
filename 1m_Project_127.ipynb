{
  "cells": [
    {
      "cell_type": "markdown",
      "metadata": {
        "id": "view-in-github",
        "colab_type": "text"
      },
      "source": [
        "<a href=\"https://colab.research.google.com/github/roboaleks/E.g/blob/main/1m_Project_127.ipynb\" target=\"_parent\"><img src=\"https://colab.research.google.com/assets/colab-badge.svg\" alt=\"Open In Colab\"/></a>"
      ]
    },
    {
      "cell_type": "code",
      "execution_count": 2,
      "metadata": {
        "colab": {
          "base_uri": "https://localhost:8080/"
        },
        "id": "PC43O4YXfmoa",
        "outputId": "aea62d54-981c-420c-e009-784515431a36"
      },
      "outputs": [
        {
          "output_type": "stream",
          "name": "stdout",
          "text": [
            "Cloning into 'Pro-M3-Hurricane-Damage-Dataset'...\n",
            "remote: Enumerating objects: 800, done.\u001b[K\n",
            "remote: Total 800 (delta 0), reused 0 (delta 0), pack-reused 800\u001b[K\n",
            "Receiving objects: 100% (800/800), 2.07 MiB | 20.78 MiB/s, done.\n"
          ]
        }
      ],
      "source": [
        "!git clone https://github.com/procodingclass/Pro-M3-Hurricane-Damage-Dataset"
      ]
    },
    {
      "cell_type": "code",
      "execution_count": 4,
      "metadata": {
        "id": "tUbEOKzVhYMQ",
        "colab": {
          "base_uri": "https://localhost:8080/"
        },
        "outputId": "93ebb5c5-c208-4cd2-8685-7eaf8334edab"
      },
      "outputs": [
        {
          "output_type": "stream",
          "name": "stdout",
          "text": [
            "Found 300 images belonging to 2 classes.\n"
          ]
        }
      ],
      "source": [
        "#Training data\n",
        "import tensorflow as tf\n",
        "from tensorflow.keras.preprocessing.image import ImageDataGenerator\n",
        "from tensorflow.keras.preprocessing.image import img_to_array, load_img\n",
        "\n",
        "\n",
        "# Random Data Augmentation(Rescale, Rotation, Flips, Zoom, Shifts) using ImageDataGenerator \n",
        "training_data_generator = ImageDataGenerator(\n",
        "    rescale = 1.0/255,\n",
        "    rotation_range=40,\n",
        "    width_shift_range=0.3,\n",
        "    height_shift_range=0.3,\n",
        "    zoom_range=0.3,\n",
        "    horizontal_flip=True,\n",
        "    vertical_flip=True,\n",
        "    fill_mode='nearest')\n",
        "\n",
        "\n",
        "# Image Directory\n",
        "training_image_directory = \"/content/Pro-M3-Hurricane-Damage-Dataset/train\"\n",
        "\n",
        "# Generate Preprocessed Augmented Data\n",
        "training_augmented_images = training_data_generator.flow_from_directory(\n",
        "    training_image_directory,\n",
        "    target_size=(180,180))"
      ]
    },
    {
      "cell_type": "code",
      "execution_count": 5,
      "metadata": {
        "colab": {
          "base_uri": "https://localhost:8080/"
        },
        "id": "os3jEJB7hnvM",
        "outputId": "0463a822-f373-4cd7-90f3-e8c034617b19"
      },
      "outputs": [
        {
          "output_type": "stream",
          "name": "stdout",
          "text": [
            "Found 300 images belonging to 2 classes.\n"
          ]
        }
      ],
      "source": [
        "#Data validation\n",
        "# Random Data Augmentation(Rescale) using ImageDataGenerator\n",
        "validation_data_generator = ImageDataGenerator(rescale = 1.0/255)\n",
        "\n",
        "# Image Directory\n",
        "validation_image_directory = \"/content/Pro-M3-Hurricane-Damage-Dataset/validate\"\n",
        "\n",
        "# Generate Preprocessed Augmented Data\n",
        "validation_augmented_images = validation_data_generator.flow_from_directory(\n",
        "    validation_image_directory,\n",
        "    target_size=(180,180))"
      ]
    },
    {
      "cell_type": "code",
      "execution_count": 6,
      "metadata": {
        "colab": {
          "base_uri": "https://localhost:8080/"
        },
        "id": "0_DunWIFiEhf",
        "outputId": "bca4d0e7-34ca-4c9f-a566-f57ab9a73b5d"
      },
      "outputs": [
        {
          "output_type": "execute_result",
          "data": {
            "text/plain": [
              "{'damage': 0, 'no_damage': 1}"
            ]
          },
          "metadata": {},
          "execution_count": 6
        }
      ],
      "source": [
        "#class labels\n",
        "training_augmented_images.class_indices "
      ]
    },
    {
      "cell_type": "code",
      "execution_count": 7,
      "metadata": {
        "id": "lxxfEvA-iO3M"
      },
      "outputs": [],
      "source": [
        "#Define CNN\n",
        "import tensorflow as tf\n",
        "model = tf.keras.models.Sequential([\n",
        "    \n",
        "    # 1st Convolution & Pooling layer\n",
        "    tf.keras.layers.Conv2D(64, (3,3), activation='relu', input_shape=(180, 180, 3)),\n",
        "    tf.keras.layers.MaxPooling2D(2, 2),\n",
        "\n",
        "    # 2nd Convolution & Pooling layer\n",
        "    tf.keras.layers.Conv2D(64, (3,3), activation='relu'),\n",
        "    tf.keras.layers.MaxPooling2D(2,2),\n",
        "\n",
        "    # 3rd Convolution & Pooling layer\n",
        "    tf.keras.layers.Conv2D(128, (3,3), activation='relu'),\n",
        "    tf.keras.layers.MaxPooling2D(2,2),\n",
        "\n",
        "    # 4th Convolution & Pooling layer\n",
        "    tf.keras.layers.Conv2D(128, (3,3), activation='relu'),\n",
        "    tf.keras.layers.MaxPooling2D(2,2),\n",
        "\n",
        "    # Flatten the results to feed into a Dense Layer\n",
        "    tf.keras.layers.Flatten(),\n",
        "    tf.keras.layers.Dropout(0.5),\n",
        "\n",
        "    # Classification Layer\n",
        "    tf.keras.layers.Dense(512, activation='relu'),\n",
        "    tf.keras.layers.Dense(2, activation='sigmoid')\n",
        "])"
      ]
    },
    {
      "cell_type": "code",
      "execution_count": 8,
      "metadata": {
        "colab": {
          "base_uri": "https://localhost:8080/"
        },
        "id": "-mPX8Koujp8f",
        "outputId": "61df7bc4-6fcf-4a6f-c5a4-565e2538e5cd"
      },
      "outputs": [
        {
          "output_type": "stream",
          "name": "stdout",
          "text": [
            "Model: \"sequential\"\n",
            "_________________________________________________________________\n",
            " Layer (type)                Output Shape              Param #   \n",
            "=================================================================\n",
            " conv2d (Conv2D)             (None, 178, 178, 64)      1792      \n",
            "                                                                 \n",
            " max_pooling2d (MaxPooling2D  (None, 89, 89, 64)       0         \n",
            " )                                                               \n",
            "                                                                 \n",
            " conv2d_1 (Conv2D)           (None, 87, 87, 64)        36928     \n",
            "                                                                 \n",
            " max_pooling2d_1 (MaxPooling  (None, 43, 43, 64)       0         \n",
            " 2D)                                                             \n",
            "                                                                 \n",
            " conv2d_2 (Conv2D)           (None, 41, 41, 128)       73856     \n",
            "                                                                 \n",
            " max_pooling2d_2 (MaxPooling  (None, 20, 20, 128)      0         \n",
            " 2D)                                                             \n",
            "                                                                 \n",
            " conv2d_3 (Conv2D)           (None, 18, 18, 128)       147584    \n",
            "                                                                 \n",
            " max_pooling2d_3 (MaxPooling  (None, 9, 9, 128)        0         \n",
            " 2D)                                                             \n",
            "                                                                 \n",
            " flatten (Flatten)           (None, 10368)             0         \n",
            "                                                                 \n",
            " dropout (Dropout)           (None, 10368)             0         \n",
            "                                                                 \n",
            " dense (Dense)               (None, 512)               5308928   \n",
            "                                                                 \n",
            " dense_1 (Dense)             (None, 2)                 1026      \n",
            "                                                                 \n",
            "=================================================================\n",
            "Total params: 5,570,114\n",
            "Trainable params: 5,570,114\n",
            "Non-trainable params: 0\n",
            "_________________________________________________________________\n"
          ]
        }
      ],
      "source": [
        "model.summary()"
      ]
    },
    {
      "cell_type": "code",
      "execution_count": 9,
      "metadata": {
        "id": "vH4NmyA6jvmb"
      },
      "outputs": [],
      "source": [
        "#Compile Model\n",
        "model.compile(loss='binary_crossentropy', optimizer='adam', metrics=['accuracy'])"
      ]
    },
    {
      "cell_type": "code",
      "execution_count": null,
      "metadata": {
        "id": "rcsJO70Mj371",
        "colab": {
          "base_uri": "https://localhost:8080/"
        },
        "outputId": "07ecd35d-28de-41b9-bd16-1a0cb61ef097"
      },
      "outputs": [
        {
          "output_type": "stream",
          "name": "stdout",
          "text": [
            "Epoch 1/20\n",
            "10/10 [==============================] - 53s 5s/step - loss: 0.7025 - accuracy: 0.4500 - val_loss: 0.6867 - val_accuracy: 0.5000\n",
            "Epoch 2/20\n"
          ]
        }
      ],
      "source": [
        "history = model.fit(training_augmented_images, epochs=20, \n",
        "                    validation_data = validation_augmented_images, \n",
        "                    verbose=True)\n",
        "\n",
        "model.save(\"damage.h5\")"
      ]
    },
    {
      "cell_type": "code",
      "execution_count": null,
      "metadata": {
        "id": "OFPU-wkpj8bv"
      },
      "outputs": [],
      "source": [
        "training_augmented_images.class_indices"
      ]
    }
  ],
  "metadata": {
    "colab": {
      "provenance": [],
      "include_colab_link": true
    },
    "kernelspec": {
      "display_name": "Python 3",
      "name": "python3"
    },
    "language_info": {
      "name": "python"
    }
  },
  "nbformat": 4,
  "nbformat_minor": 0
}